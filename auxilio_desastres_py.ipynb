{
  "nbformat": 4,
  "nbformat_minor": 0,
  "metadata": {
    "colab": {
      "provenance": [],
      "authorship_tag": "ABX9TyMD0Dqd5YC4uLCIeN/IamUr",
      "include_colab_link": true
    },
    "kernelspec": {
      "name": "python3",
      "display_name": "Python 3"
    },
    "language_info": {
      "name": "python"
    }
  },
  "cells": [
    {
      "cell_type": "markdown",
      "metadata": {
        "id": "view-in-github",
        "colab_type": "text"
      },
      "source": [
        "<a href=\"https://colab.research.google.com/github/stefannymaximo/auxilio_desastres_imers-o_IA_A4/blob/main/auxilio_desastres_py.ipynb\" target=\"_parent\"><img src=\"https://colab.research.google.com/assets/colab-badge.svg\" alt=\"Open In Colab\"/></a>"
      ]
    },
    {
      "cell_type": "code",
      "execution_count": 27,
      "metadata": {
        "colab": {
          "base_uri": "https://localhost:8080/"
        },
        "id": "nduRS8bB2tR8",
        "outputId": "5cd4f9e1-35af-456d-aa98-3f95842cb120"
      },
      "outputs": [
        {
          "output_type": "stream",
          "name": "stdout",
          "text": [
            "Erro ao buscar voluntários: 404\n"
          ]
        }
      ],
      "source": [
        "import google.generativeai as genai\n",
        "import requests\n",
        "\n",
        "# Configurações da API Generative AI\n",
        "from google.colab import userdata\n",
        "GOOGLE_API_KEY = userdata.get(\"SECRET_KEY\")\n",
        "# genai.configure(GOOGLE_API_KEY=GOOGLE_API_KEY)\n",
        "\n",
        "# Configurações da API do Voluntariado Azul\n",
        "VOLUNTEER_API_URL = \"https://www.voluntariadoazul.com.br/pt-BR/aggregators/faa4dccb-b846-4127-9423-775baba8c7ca\"\n",
        "VOLUNTEER_API_KEY = \"SUA_VOLUNTEER_API_KEY\"\n",
        "\n",
        "needs = {\n",
        "    \"area\": \"Assistência Social\",\n",
        "    \"skills\": [\"Atendimento ao público\", \"Organização de eventos\"],\n",
        "    \"cidade\": \"São Paulo\",\n",
        "    \"estado\": \"SP\"\n",
        "}\n",
        "\n",
        "#É necessário criar uma conta e solicitar acesso à API no site do Voluntariado Azul.\n",
        "def connect_with_volunteer(needs):\n",
        "    \"\"\"Conecta com a API do Voluntariado Azul para buscar voluntários.\"\"\"\n",
        "    query = \"\"\"\n",
        "    query {\n",
        "        opportunityAggregations(\n",
        "            filter: {\n",
        "                and: [\n",
        "                    { area: { eq: \"%s\" } },\n",
        "                    { skills: { contains: \"%s\" } },\n",
        "                    { city: { eq: \"%s\" } },\n",
        "                    { state: { eq: \"%s\" } }\n",
        "                ]\n",
        "            }\n",
        "        ) {\n",
        "            nodes {\n",
        "                id\n",
        "                title\n",
        "                description\n",
        "                area\n",
        "                skills\n",
        "                perks\n",
        "                city\n",
        "                state\n",
        "                organization {\n",
        "                    name\n",
        "                }\n",
        "            }\n",
        "        }\n",
        "    }\n",
        "    \"\"\" % (needs[\"area\"], needs[\"skills\"][0], needs[\"cidade\"], needs[\"estado\"])\n",
        "\n",
        "    headers = {\"Authorization\": VOLUNTEER_API_KEY, \"Content-Type\": \"application/json\"}\n",
        "    response = requests.post(VOLUNTEER_API_URL, json={'query': query}, headers=headers)\n",
        "\n",
        "    if response.status_code == 200:\n",
        "        volunteer_data = response.json()\n",
        "        return volunteer_data\n",
        "    else:\n",
        "        print(f\"Erro ao buscar voluntários: {response.status_code}\")\n",
        "        return None\n",
        "\n",
        "# Configurações de segurança\n",
        "safety_settings = {\n",
        "    'HATE': 'BLOCK_NONE',\n",
        "    'HARASSMENT': 'BLOCK_NONE',\n",
        "    'SEXUAL': 'BLOCK_NONE',\n",
        "    'DANGEROUS': 'BLOCK_NONE'\n",
        "}\n",
        "\n",
        "# Inicializando o modelo Gemini\n",
        "model = genai.GenerativeModel(\n",
        "    model_name=\"gemini-1.0-pro\",\n",
        "    generation_config={\"candidate_count\": 1, \"temperature\": 0.5},\n",
        "    safety_settings=safety_settings,\n",
        ")\n",
        "\n",
        "# Chamando a função para conectar com a API do Voluntariado Azul\n",
        "volunteer_data = connect_with_volunteer(needs)\n",
        "\n",
        "# Imprimindo os dados dos voluntários (opcional)\n",
        "if volunteer_data:\n",
        "    print(volunteer_data)"
      ]
    },
    {
      "cell_type": "code",
      "source": [
        "def welcome_message():\n",
        "    \"\"\"Gera mensagem inicial de boas-vindas e explica o propósito\"\"\"\n",
        "    response = model.generate_content(\n",
        "        \"Olá! Seja bem-vindo(a) à plataforma Gemini. Estamos aqui para te auxiliar \"\n",
        "        \"nesse momento difícil. Por favor, responda a este breve questionário para \"\n",
        "        \"que possamos adaptar a comunicação às suas necessidades.\"\n",
        "    )\n",
        "    return response.text\n"
      ],
      "metadata": {
        "id": "CGIfYwgp8NLt"
      },
      "execution_count": 21,
      "outputs": []
    },
    {
      "cell_type": "code",
      "source": [
        "def accessibility_check():\n",
        "    \"\"\"Cria formulário simples para identificar necessidades de acessibilidade\"\"\"\n",
        "    visual_impairment = input(\"Você possui alguma deficiência visual? (Sim/Não): \").lower()\n",
        "    hearing_impairment = input(\"Você possui alguma deficiência auditiva? (Sim/Não): \").lower()\n",
        "    return visual_impairment == \"sim\", hearing_impairment == \"sim\"\n"
      ],
      "metadata": {
        "id": "_dW5KhvA8POP"
      },
      "execution_count": 22,
      "outputs": []
    },
    {
      "cell_type": "code",
      "source": [
        "def get_support_info(needs):\n",
        "    \"\"\"Busca informações de apoio em bases de dados reais\"\"\"\n",
        "    # Substitua por integrações reais com bases de dados\n",
        "    support_info = {\n",
        "        \"abrigo\": get_shelter_info(needs[\"abrigo\"]),\n",
        "        \"alimentação\": get_food_assistance_info(needs[\"alimentação\"]),\n",
        "        \"assistência médica\": get_medical_assistance_info(needs[\"assistência médica\"]),\n",
        "        \"psicológica\": get_psychological_support_info(needs[\"psicológica\"]),\n",
        "    }\n",
        "\n",
        "    # Filtrar informações de acordo com as necessidades do usuário\n",
        "    filtered_info = {k: v for k, v in support_info.items() if v is not None}\n",
        "    return filtered_info\n"
      ],
      "metadata": {
        "id": "f0gp6S5Y8RPh"
      },
      "execution_count": 23,
      "outputs": []
    },
    {
      "cell_type": "code",
      "source": [
        "def get_shelter_info(need):\n",
        "    \"\"\"Busca informações de abrigo em uma API (exemplo)\"\"\"\n",
        "    if need is None:\n",
        "        return None\n",
        "\n",
        "    # Substitua por requisição real à API de abrigos\n",
        "    request_data = {\"necessidade\": need}\n",
        "    response = requests.post(SHELTER_API_URL, json=request_data, headers={\"Authorization\": SHELTER_API_KEY})\n",
        "\n",
        "    if response.status_code == 200:\n",
        "        shelter_info = response.json()\n",
        "        # Processar e formatar as informações do abrigo\n",
        "        return format_shelter_info(shelter_info)\n",
        "    else:\n",
        "        print(f\"Erro ao buscar informações de abrigo: {response.status_code}\")\n",
        "        return None\n"
      ],
      "metadata": {
        "id": "7QJZcqRe8UX0"
      },
      "execution_count": 24,
      "outputs": []
    },
    {
      "cell_type": "code",
      "source": [
        "def connect_with_volunteer(needs):\n"
      ],
      "metadata": {
        "colab": {
          "base_uri": "https://localhost:8080/",
          "height": 106
        },
        "id": "toVFkXpB8Xih",
        "outputId": "db74413e-2139-444a-9f86-85a19711e12a"
      },
      "execution_count": 25,
      "outputs": [
        {
          "output_type": "error",
          "ename": "SyntaxError",
          "evalue": "incomplete input (<ipython-input-25-34ac16512484>, line 1)",
          "traceback": [
            "\u001b[0;36m  File \u001b[0;32m\"<ipython-input-25-34ac16512484>\"\u001b[0;36m, line \u001b[0;32m1\u001b[0m\n\u001b[0;31m    def connect_with_volunteer(needs):\u001b[0m\n\u001b[0m                                      ^\u001b[0m\n\u001b[0;31mSyntaxError\u001b[0m\u001b[0;31m:\u001b[0m incomplete input\n"
          ]
        }
      ]
    }
  ]
}